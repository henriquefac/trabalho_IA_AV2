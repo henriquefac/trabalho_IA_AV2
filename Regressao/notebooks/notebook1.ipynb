{
 "cells": [
  {
   "cell_type": "code",
   "execution_count": 13,
   "metadata": {},
   "outputs": [
    {
     "name": "stdout",
     "output_type": "stream",
     "text": [
      "Caminho do diretório atual: c:\\Users\\henri\\Documents\\pythonProjcs\\cadeira_IA_cirilo\\av2\\Regressao\n"
     ]
    }
   ],
   "source": [
    "import numpy as np\n",
    "import matplotlib.pyplot as plt\n",
    "import os\n",
    "import sys\n",
    "import pandas as pd\n",
    "# Obtendo o diretório atual do Jupyter Notebook\n",
    "caminho_script = \"\\\\\".join(os.getcwd().split(\"\\\\\")[:-1])\n",
    "print(\"Caminho do diretório atual:\", caminho_script)\n",
    "\n",
    "# Adicionando o diretório ao sys.path se precisar importar módulos\n",
    "sys.path.append(caminho_script)\n",
    "\n",
    "# Importando suas classes\n",
    "from classes.dadosClass.monteCarlo import MonteCarlo as mc\n",
    "from classes.modelosLineares.MQOtradicional import MQOTradicional as MQOT\n",
    "from classes.modelosLineares.MQOregularizado import MQORegularizado as MQOR\n"
   ]
  },
  {
   "cell_type": "markdown",
   "metadata": {},
   "source": [
    "## Mostrar dados"
   ]
  },
  {
   "cell_type": "code",
   "execution_count": 5,
   "metadata": {},
   "outputs": [
    {
     "data": {
      "image/png": "[encoded data removed]",
      "text/plain": [
       "<Figure size 640x480 with 1 Axes>"
      ]
     },
     "metadata": {},
     "output_type": "display_data"
    }
   ],
   "source": [
    "# pegar dados\n",
    "x, y = mc(r\"aerogerador.dat\").getData()\n",
    "\n",
    "# remover coluna de 1's\n",
    "x = x[:, 1:]\n",
    "\n",
    "\n",
    "plt.scatter(x, y, color='purple')\n",
    "plt.show()\n"
   ]
  },
  {
   "cell_type": "markdown",
   "metadata": {},
   "source": [
    "## Realizar testes"
   ]
  },
  {
   "cell_type": "code",
   "execution_count": 19,
   "metadata": {},
   "outputs": [],
   "source": [
    "# Cria o retriever de dados\n",
    "dada_retriver = mc(r\"aerogerador.dat\")\n",
    "\n",
    "# Inicializa o dicionário para armazenar RSS\n",
    "dict_rss = {\n",
    "    \"MQO tradicional\": [],\n",
    "    \"Media dos valores obs\": []\n",
    "}\n",
    "lambda_list = [0, 0.25, 0.5, 0.75, 1]\n",
    "for i in lambda_list:\n",
    "    dict_rss[f\"MQO regularizado ({i})\"] = []\n",
    "\n",
    "def MQOtradicional(x_tre, y_tre, x_tes, y_tes):\n",
    "    modelo = MQOT(x_tre, y_tre)  # Instancia o modelo MQO tradicional\n",
    "    modelo.trainModel()  # Treina o modelo\n",
    "    new_y = modelo.predict(x_tes)  # Faz predições com o conjunto de teste\n",
    "    dict_rss[\"MQO tradicional\"].append(np.sum((new_y.flatten() - y_tes.flatten()) ** 2))  # Calcula o RSS\n",
    "\n",
    "def MQOregularizado(x_tre, y_tre, x_tes, y_tes):\n",
    "    for lambd in lambda_list:\n",
    "        modelo = MQOR(x_tre, y_tre, lambd)  # Instancia o modelo MQO regularizado com lambda\n",
    "        modelo.trainModel()  # Treina o modelo\n",
    "        new_y = modelo.predict(x_tes)  # Faz predições com o conjunto de teste\n",
    "        dict_rss[f\"MQO regularizado ({lambd})\"].append(np.sum((new_y.flatten() - y_tes.flatten()) ** 2))  # Calcula o RSS\n",
    "\n",
    "# Loop para 500 rodadas\n",
    "for _ in range(500):\n",
    "    treino, teste = dada_retriver.partitionData()  # Particiona os dados\n",
    "    x_treino, y_treino = mc.formatMatrix(treino)  # Formata os dados de treinamento\n",
    "    x_teste, y_teste = mc.formatMatrix(teste)  # Formata os dados de teste\n",
    "\n",
    "    MQOtradicional(x_treino, y_treino, x_teste, y_teste)  # Executa o MQO tradicional\n",
    "    MQOregularizado(x_treino, y_treino, x_teste, y_teste)  # Executa o MQO regularizado\n",
    "    \n",
    "    # Média dos valores observados\n",
    "    y_pred_media = np.ones(y_teste.shape) * np.mean(y_treino)\n",
    "    dict_rss[\"Media dos valores obs\"].append(np.sum((y_teste - y_pred_media) ** 2))\n",
    "\n"
   ]
  },
  {
   "cell_type": "markdown",
   "metadata": {},
   "source": [
    "## Formatar dados"
   ]
  },
  {
   "cell_type": "code",
   "execution_count": 15,
   "metadata": {},
   "outputs": [
    {
     "name": "stdout",
     "output_type": "stream",
     "text": [
      "MQO tradicional           Média: 357153.01 | Desvio-Padrão: 71294.34 | Maior Valor: 620739.88 | Menor Valor: 207045.93\n",
      "Media dos valores obs     Média: 5003934.72 | Desvio-Padrão: 262945.98 | Maior Valor: 5808965.83 | Menor Valor: 4324229.75\n",
      "MQO regularizado (0)      Média: 357153.01 | Desvio-Padrão: 71294.34 | Maior Valor: 620739.88 | Menor Valor: 207045.93\n",
      "MQO regularizado (0.25)   Média: 357152.25 | Desvio-Padrão: 71281.05 | Maior Valor: 620680.03 | Menor Valor: 207064.31\n",
      "MQO regularizado (0.5)    Média: 357151.50 | Desvio-Padrão: 71267.77 | Maior Valor: 620620.22 | Menor Valor: 207082.71\n",
      "MQO regularizado (0.75)   Média: 357150.77 | Desvio-Padrão: 71254.49 | Maior Valor: 620560.43 | Menor Valor: 207101.13\n",
      "MQO regularizado (1)      Média: 357150.05 | Desvio-Padrão: 71241.21 | Maior Valor: 620500.67 | Menor Valor: 207119.56\n"
     ]
    }
   ],
   "source": [
    "# Nomes das colunas da tabela\n",
    "name_columns = [\"Modelos\", \"Media\", \"Desvio-Padrao\", \"Maior Valor\", \"Menor Valor\"]\n",
    "dict_table = {coluna: [] for coluna in name_columns}\n",
    "\n",
    "# Preenche a coluna dos nomes dos modelos\n",
    "dict_table[\"Modelos\"] = list(dict_rss.keys())\n",
    "\n",
    "# Calcula e preenche as outras colunas com as métricas para cada modelo\n",
    "dict_table[\"Media\"] = [np.mean(valores) for valores in dict_rss.values()]\n",
    "dict_table[\"Desvio-Padrao\"] = [np.std(valores) for valores in dict_rss.values()]\n",
    "dict_table[\"Maior Valor\"] = [np.max(valores) for valores in dict_rss.values()]\n",
    "dict_table[\"Menor Valor\"] = [np.min(valores) for valores in dict_rss.values()]\n",
    "\n",
    "# Exibir a tabela\n",
    "for i in range(len(dict_table[\"Modelos\"])):\n",
    "    print(f\"{dict_table['Modelos'][i]:<25} Média: {dict_table['Media'][i]:.2f} | \"\n",
    "          f\"Desvio-Padrão: {dict_table['Desvio-Padrao'][i]:.2f} | Maior Valor: {dict_table['Maior Valor'][i]:.2f} | \"\n",
    "          f\"Menor Valor: {dict_table['Menor Valor'][i]:.2f}\")\n"
   ]
  },
  {
   "cell_type": "code",
   "execution_count": 18,
   "metadata": {},
   "outputs": [
    {
     "name": "stdout",
     "output_type": "stream",
     "text": [
      "                   Modelos         Media  Desvio-Padrao   Maior Valor   Menor Valor\n",
      "0          MQO tradicional  3.571530e+05   71294.342102  6.207399e+05  2.070459e+05\n",
      "1    Media dos valores obs  5.003935e+06  262945.984141  5.808966e+06  4.324230e+06\n",
      "2     MQO regularizado (0)  3.571530e+05   71294.342102  6.207399e+05  2.070459e+05\n",
      "3  MQO regularizado (0.25)  3.571522e+05   71281.051943  6.206800e+05  2.070643e+05\n",
      "4   MQO regularizado (0.5)  3.571515e+05   71267.766327  6.206202e+05  2.070827e+05\n",
      "5  MQO regularizado (0.75)  3.571508e+05   71254.485250  6.205604e+05  2.071011e+05\n",
      "6     MQO regularizado (1)  3.571501e+05   71241.208713  6.205007e+05  2.071196e+05\n"
     ]
    }
   ],
   "source": [
    "# Configuração para evitar quebra de linha\n",
    "pd.set_option('display.width', 1000)  # Define uma largura maior para o display\n",
    "pd.set_option('display.max_columns', None)  # Mostra todas as colunas sem quebras\n",
    "pd.set_option('display.max_colwidth', None)  # Exibe o conteúdo das colunas sem truncar\n",
    "\n",
    "# Criar e exibir o DataFrame\n",
    "df_results = pd.DataFrame(dict_table)\n",
    "print(df_results)\n"
   ]
  },
  {
   "cell_type": "code",
   "execution_count": null,
   "metadata": {},
   "outputs": [],
   "source": [
    "df_results.to_csv(\"resultados_modelos.csv\", index=False)"
   ]
  }
 ],
 "metadata": {
  "kernelspec": {
   "display_name": "ia_2024",
   "language": "python",
   "name": "python3"
  },
  "language_info": {
   "codemirror_mode": {
    "name": "ipython",
    "version": 3
   },
   "file_extension": ".py",
   "mimetype": "text/x-python",
   "name": "python",
   "nbconvert_exporter": "python",
   "pygments_lexer": "ipython3",
   "version": "3.12.4"
  }
 },
 "nbformat": 4,
 "nbformat_minor": 2
}
